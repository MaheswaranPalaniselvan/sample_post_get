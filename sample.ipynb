{
 "cells": [
  {
   "cell_type": "markdown",
   "metadata": {},
   "source": [
    "# POST Call"
   ]
  },
  {
   "cell_type": "code",
   "execution_count": 1,
   "metadata": {},
   "outputs": [
    {
     "name": "stdout",
     "output_type": "stream",
     "text": [
      "Data successfully saved!\n"
     ]
    }
   ],
   "source": [
    "import requests\n",
    "\n",
    "data =  {\n",
    "  \"topic\": \"string\",\n",
    "  \"pages\": [\n",
    "    {\n",
    "      \"id\": 1,\n",
    "      \"subtopic\": [\n",
    "        {\n",
    "          \"id\": 1,\n",
    "          \"title\": \"string\",\n",
    "          \"description\": \"html\"\n",
    "        },\n",
    "        {\n",
    "          \"id\": 2,\n",
    "          \"title\": \"string\",\n",
    "          \"description\": \"html\"\n",
    "        },\n",
    "        {\n",
    "          \"id\": 3,\n",
    "          \"title\": \"string\",\n",
    "          \"description\": \"html\"\n",
    "        },\n",
    "        {\n",
    "          \"id\": 4,\n",
    "          \"title\": \"string\",\n",
    "          \"description\": \"html\"\n",
    "        }\n",
    "      ]\n",
    "    },\n",
    "    {\n",
    "      \"id\": 2,\n",
    "      \"subtopic\": [\n",
    "        {\n",
    "          \"id\": 1,\n",
    "          \"title\": \"string\",\n",
    "          \"description\": \"html\"\n",
    "        },\n",
    "        {\n",
    "          \"id\": 2,\n",
    "          \"title\": \"string\",\n",
    "          \"description\": \"html\"\n",
    "        },\n",
    "        {\n",
    "          \"id\": 3,\n",
    "          \"title\": \"string\",\n",
    "          \"description\": \"html\"\n",
    "        },\n",
    "        {\n",
    "          \"id\": 4,\n",
    "          \"title\": \"string\",\n",
    "          \"description\": \"html\"\n",
    "        }\n",
    "      ]\n",
    "    },\n",
    "    {\n",
    "      \"id\": 3,\n",
    "      \"subtopic\": [\n",
    "        {\n",
    "          \"id\": 1,\n",
    "          \"title\": \"string\",\n",
    "          \"description\": \"html\"\n",
    "        },\n",
    "        {\n",
    "          \"id\": 2,\n",
    "          \"title\": \"string\",\n",
    "          \"description\": \"html\"\n",
    "        },\n",
    "        {\n",
    "          \"id\": 3,\n",
    "          \"title\": \"string\",\n",
    "          \"description\": \"html\"\n",
    "        },\n",
    "        {\n",
    "          \"id\": 4,\n",
    "          \"title\": \"string\",\n",
    "          \"description\": \"html\"\n",
    "        }\n",
    "      ]\n",
    "    }\n",
    "  ]\n",
    "}\n",
    "\n",
    "\n",
    "\n",
    "url = \"http://localhost:8000/save_data/\"\n",
    "response = requests.post(url, json=data)\n",
    "\n",
    "if response.status_code == 200:\n",
    "    print(\"Data successfully saved!\")\n",
    "else:\n",
    "    print(f\"Failed to save data. Status code: {response.status_code}\")\n"
   ]
  },
  {
   "cell_type": "markdown",
   "metadata": {},
   "source": [
    "# GET Call"
   ]
  },
  {
   "cell_type": "code",
   "execution_count": 2,
   "metadata": {},
   "outputs": [
    {
     "name": "stdout",
     "output_type": "stream",
     "text": [
      "[{'topic': 'string1', 'pages': [{'id': 1, 'subtopic': [{'id': 1, 'title': 'string', 'description': 'html'}, {'id': 2, 'title': 'string', 'description': 'html'}, {'id': 3, 'title': 'string', 'description': 'html'}, {'id': 4, 'title': 'string', 'description': 'html'}]}]}, {'topic': 'string2', 'pages': [{'id': 1, 'subtopic': [{'id': 1, 'title': 'string', 'description': 'html'}, {'id': 2, 'title': 'string', 'description': 'html'}, {'id': 3, 'title': 'string', 'description': 'html'}, {'id': 4, 'title': 'string', 'description': 'html'}]}]}, {'topic': 'string9', 'pages': [{'id': 1, 'subtopic': [{'id': 1, 'title': 'string', 'description': 'html'}, {'id': 2, 'title': 'string', 'description': 'html'}, {'id': 3, 'title': 'string', 'description': 'html'}, {'id': 4, 'title': 'string', 'description': 'html'}]}]}, {'topic': 'string', 'pages': [{'id': 1, 'subtopic': [{'id': 1, 'title': 'string', 'description': 'html'}, {'id': 2, 'title': 'string', 'description': 'html'}, {'id': 3, 'title': 'string', 'description': 'html'}, {'id': 4, 'title': 'string', 'description': 'html'}]}, {'id': 2, 'subtopic': [{'id': 1, 'title': 'string', 'description': 'html'}, {'id': 2, 'title': 'string', 'description': 'html'}, {'id': 3, 'title': 'string', 'description': 'html'}, {'id': 4, 'title': 'string', 'description': 'html'}]}, {'id': 3, 'subtopic': [{'id': 1, 'title': 'string', 'description': 'html'}, {'id': 2, 'title': 'string', 'description': 'html'}, {'id': 3, 'title': 'string', 'description': 'html'}, {'id': 4, 'title': 'string', 'description': 'html'}]}]}]\n"
     ]
    }
   ],
   "source": [
    "import requests\n",
    "\n",
    "url = \"http://localhost:8000/get_data/\"\n",
    "response = requests.get(url)\n",
    "\n",
    "# Check the response\n",
    "if response.status_code == 200:\n",
    "    data = response.json()\n",
    "    print(data)\n",
    "else:\n",
    "    print(f\"Failed to retrieve data. Status code: {response.status_code}\")\n"
   ]
  }
 ],
 "metadata": {
  "kernelspec": {
   "display_name": "Python 3",
   "language": "python",
   "name": "python3"
  },
  "language_info": {
   "codemirror_mode": {
    "name": "ipython",
    "version": 3
   },
   "file_extension": ".py",
   "mimetype": "text/x-python",
   "name": "python",
   "nbconvert_exporter": "python",
   "pygments_lexer": "ipython3",
   "version": "3.11.2"
  },
  "orig_nbformat": 4
 },
 "nbformat": 4,
 "nbformat_minor": 2
}
